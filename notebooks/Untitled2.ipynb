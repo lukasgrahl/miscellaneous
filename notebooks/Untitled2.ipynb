{
 "cells": [
  {
   "cell_type": "code",
   "execution_count": 1,
   "id": "631be7c8-0007-496c-85f4-e86a9ceb35cb",
   "metadata": {},
   "outputs": [],
   "source": [
    "%run init_notebook.py"
   ]
  },
  {
   "cell_type": "code",
   "execution_count": 2,
   "id": "c27e0924-51b3-4534-be82-70d19c029e6a",
   "metadata": {},
   "outputs": [],
   "source": [
    "import pandas as pd\n",
    "import os\n",
    "\n",
    "from IPython.display import clear_output"
   ]
  },
  {
   "cell_type": "code",
   "execution_count": 3,
   "id": "7004cd5d-7d1e-463a-a65c-8c9fa38e3a0b",
   "metadata": {},
   "outputs": [],
   "source": [
    "from settings import DATA_DIR"
   ]
  },
  {
   "cell_type": "code",
   "execution_count": 4,
   "id": "66163e9b-ae8f-41f7-9d6e-dac783e0f267",
   "metadata": {},
   "outputs": [],
   "source": [
    "df = pd.read_excel(os.path.join(DATA_DIR, \"GRE_voc.xlsx\"))"
   ]
  },
  {
   "cell_type": "code",
   "execution_count": 22,
   "id": "e6e92339-fae9-4655-9b9e-4fd648ac6985",
   "metadata": {},
   "outputs": [],
   "source": [
    "def voc_interact(df: pd.DataFrame):\n",
    "    \n",
    "    for i in df.index:\n",
    "        print(\"\"\" \"\"\")\n",
    "        print(df.loc[i][\"Vocabulary\"])\n",
    "        x = input(\"y/n/i/e/d\")\n",
    "        # print(\"test\")\n",
    "\n",
    "        if x == \"d\":\n",
    "            print(\"test2\")\n",
    "            clear_output(wait=True)\n",
    "            print(df.loc[i][\"Vocabulary\"])\n",
    "            x = input(\"y/n/i/e/d\")\n",
    "\n",
    "        if x == \"e\":\n",
    "            # clear_output(wait=True)\n",
    "            # sys.exit()\n",
    "            x = \"e\"\n",
    "            break\n",
    "\n",
    "        elif x == \"i\":\n",
    "            print(df.loc[i, \"Sentence\"])\n",
    "            x = input(\"y/n/i/e/d\")\n",
    "\n",
    "        if x == \"y\":\n",
    "            print(df.loc[i, \"Tranlsation\"])\n",
    "\n",
    "            if df.loc[i, \"count\"] > 0:\n",
    "                df.loc[i, \"count\"] = df.loc[i, \"count\"] - 1\n",
    "            else:\n",
    "                pass\n",
    "\n",
    "        if x == \"n\":\n",
    "            print(df.loc[i, \"Tranlsation\"])\n",
    "            df.loc[i, \"count\"] = df.loc[i, \"count\"] + 1\n",
    "            pass\n",
    "        \n",
    "    return df, x"
   ]
  },
  {
   "cell_type": "code",
   "execution_count": 23,
   "id": "7a3df9a1-1faa-4056-b220-941a5327b38c",
   "metadata": {},
   "outputs": [],
   "source": [
    "def voc_trainer(df_org: pd.DataFrame,\n",
    "                section_length: int = 40,\n",
    "               shuffle=True):\n",
    "    if shuffle == True:\n",
    "        df_sub = df_org.sample(frac=1).copy()\n",
    "    else:\n",
    "        df_sub = df_org.copy()\n",
    "        \n",
    "    for i in range(0, round(len(df_sub) / section_length)):\n",
    "        print(f\"SET {i}\")\n",
    "        df_sub = df_sub.iloc[(i * section_length) : (i * section_length + section_length)].copy()\n",
    "        \n",
    "        df_trained, mod1 = voc_interact(df=df_sub)\n",
    "        \n",
    "        df_org.loc[df_trained.index] = df_trained\n",
    "        \n",
    "        if mod1 == \"e\":\n",
    "            return df_org\n",
    "        \n",
    "        df_repeat = df_trained.copy()\n",
    "        # print(df_repeat)\n",
    "        \n",
    "        if sum(df_repeat[\"count\"]) > 0:\n",
    "            x = input(\"Repeat vocabularies? y/n\")\n",
    "            if x == \"y\":\n",
    "                while sum(df_repeat[\"count\"]) > 0:\n",
    "                    df_repeat, mod2 = voc_interact(df_repeat[df_repeat[\"count\"] > 0].copy())\n",
    "                    if mod2 == \"e\":\n",
    "                        break\n",
    "                pass\n",
    "            else:\n",
    "                pass\n",
    "            \n",
    "    return df_org"
   ]
  },
  {
   "cell_type": "code",
   "execution_count": null,
   "id": "ee07c3c7-c07b-4059-8e08-36bc397008f6",
   "metadata": {},
   "outputs": [
    {
     "name": "stdout",
     "output_type": "stream",
     "text": [
      "SET 0\n",
      " \n",
      "tenacious\n"
     ]
    },
    {
     "name": "stdin",
     "output_type": "stream",
     "text": [
      "y/n/i/e/d n\n"
     ]
    },
    {
     "name": "stdout",
     "output_type": "stream",
     "text": [
      "firm hold of something, not readily letting go of a position\n",
      " \n",
      "harangue\n"
     ]
    },
    {
     "name": "stdin",
     "output_type": "stream",
     "text": [
      "y/n/i/e/d y\n"
     ]
    },
    {
     "name": "stdout",
     "output_type": "stream",
     "text": [
      "long pompouse speech, tirade\n",
      " \n",
      "didactive\n"
     ]
    },
    {
     "name": "stdin",
     "output_type": "stream",
     "text": [
      "y/n/i/e/d y\n"
     ]
    },
    {
     "name": "stdout",
     "output_type": "stream",
     "text": [
      "instructive\n",
      " \n",
      "subersive\n"
     ]
    },
    {
     "name": "stdin",
     "output_type": "stream",
     "text": [
      "y/n/i/e/d y\n"
     ]
    },
    {
     "name": "stdout",
     "output_type": "stream",
     "text": [
      "in opposition to an established sistem\n",
      " \n",
      "bleak\n"
     ]
    },
    {
     "name": "stdin",
     "output_type": "stream",
     "text": [
      "y/n/i/e/d i\n"
     ]
    },
    {
     "name": "stdout",
     "output_type": "stream",
     "text": [
      "He paints a bleak picture of the company\n"
     ]
    },
    {
     "name": "stdin",
     "output_type": "stream",
     "text": [
      "y/n/i/e/d y\n"
     ]
    },
    {
     "name": "stdout",
     "output_type": "stream",
     "text": [
      "not hopeful\n",
      " \n",
      "gauche\n"
     ]
    },
    {
     "name": "stdin",
     "output_type": "stream",
     "text": [
      "y/n/i/e/d i\n"
     ]
    },
    {
     "name": "stdout",
     "output_type": "stream",
     "text": [
      "tölpelhaft, unbeholfen\n"
     ]
    }
   ],
   "source": [
    "_ = voc_trainer(df_org=df, section_length=20, shuffle=True)"
   ]
  },
  {
   "cell_type": "code",
   "execution_count": null,
   "id": "9ea18096-a6c1-4c6e-a0e3-4028985776ed",
   "metadata": {},
   "outputs": [],
   "source": []
  },
  {
   "cell_type": "code",
   "execution_count": null,
   "id": "c3140246-30dd-430c-b7e9-fa07dd5b622b",
   "metadata": {},
   "outputs": [],
   "source": []
  },
  {
   "cell_type": "code",
   "execution_count": 21,
   "id": "6cd99660-f97b-4901-a9e2-41dfe125682b",
   "metadata": {},
   "outputs": [
    {
     "data": {
      "text/html": [
       "<div>\n",
       "<style scoped>\n",
       "    .dataframe tbody tr th:only-of-type {\n",
       "        vertical-align: middle;\n",
       "    }\n",
       "\n",
       "    .dataframe tbody tr th {\n",
       "        vertical-align: top;\n",
       "    }\n",
       "\n",
       "    .dataframe thead th {\n",
       "        text-align: right;\n",
       "    }\n",
       "</style>\n",
       "<table border=\"1\" class=\"dataframe\">\n",
       "  <thead>\n",
       "    <tr style=\"text-align: right;\">\n",
       "      <th></th>\n",
       "      <th>N</th>\n",
       "      <th>Set</th>\n",
       "      <th>Vocabulary</th>\n",
       "      <th>Tranlsation</th>\n",
       "      <th>Sentence</th>\n",
       "      <th>Unknown</th>\n",
       "      <th>Unknown 2</th>\n",
       "      <th>Unknwon 3</th>\n",
       "      <th>Unnamed: 8</th>\n",
       "      <th>count</th>\n",
       "    </tr>\n",
       "  </thead>\n",
       "  <tbody>\n",
       "    <tr>\n",
       "      <th>0</th>\n",
       "      <td>0.254791</td>\n",
       "      <td>C</td>\n",
       "      <td>vex</td>\n",
       "      <td>make someone feel annoyed</td>\n",
       "      <td>NaN</td>\n",
       "      <td>x</td>\n",
       "      <td>NaN</td>\n",
       "      <td>NaN</td>\n",
       "      <td>NaN</td>\n",
       "      <td>1</td>\n",
       "    </tr>\n",
       "    <tr>\n",
       "      <th>1</th>\n",
       "      <td>0.773494</td>\n",
       "      <td>B</td>\n",
       "      <td>fortuitous</td>\n",
       "      <td>occuring by happy chance, having no cause</td>\n",
       "      <td>Mising my train turned out to be very fortuito...</td>\n",
       "      <td>NaN</td>\n",
       "      <td>NaN</td>\n",
       "      <td>NaN</td>\n",
       "      <td>NaN</td>\n",
       "      <td>0</td>\n",
       "    </tr>\n",
       "    <tr>\n",
       "      <th>2</th>\n",
       "      <td>0.417584</td>\n",
       "      <td>A</td>\n",
       "      <td>demur</td>\n",
       "      <td>object, show reluctance</td>\n",
       "      <td>The donkey demurred his orders.</td>\n",
       "      <td>x</td>\n",
       "      <td>NaN</td>\n",
       "      <td>NaN</td>\n",
       "      <td>NaN</td>\n",
       "      <td>1</td>\n",
       "    </tr>\n",
       "    <tr>\n",
       "      <th>3</th>\n",
       "      <td>0.054460</td>\n",
       "      <td>A</td>\n",
       "      <td>qualify</td>\n",
       "      <td>to limit</td>\n",
       "      <td>He qualified his appraisal in only refering to...</td>\n",
       "      <td>NaN</td>\n",
       "      <td>NaN</td>\n",
       "      <td>NaN</td>\n",
       "      <td>NaN</td>\n",
       "      <td>0</td>\n",
       "    </tr>\n",
       "    <tr>\n",
       "      <th>4</th>\n",
       "      <td>0.683670</td>\n",
       "      <td>F</td>\n",
       "      <td>abstruse</td>\n",
       "      <td>difficult to understand</td>\n",
       "      <td>Academic textbooks are often abstrusely written.</td>\n",
       "      <td>x</td>\n",
       "      <td>NaN</td>\n",
       "      <td>NaN</td>\n",
       "      <td>NaN</td>\n",
       "      <td>0</td>\n",
       "    </tr>\n",
       "    <tr>\n",
       "      <th>...</th>\n",
       "      <td>...</td>\n",
       "      <td>...</td>\n",
       "      <td>...</td>\n",
       "      <td>...</td>\n",
       "      <td>...</td>\n",
       "      <td>...</td>\n",
       "      <td>...</td>\n",
       "      <td>...</td>\n",
       "      <td>...</td>\n",
       "      <td>...</td>\n",
       "    </tr>\n",
       "    <tr>\n",
       "      <th>267</th>\n",
       "      <td>NaN</td>\n",
       "      <td>NaN</td>\n",
       "      <td>schism</td>\n",
       "      <td>NaN</td>\n",
       "      <td>NaN</td>\n",
       "      <td>NaN</td>\n",
       "      <td>NaN</td>\n",
       "      <td>NaN</td>\n",
       "      <td>NaN</td>\n",
       "      <td>0</td>\n",
       "    </tr>\n",
       "    <tr>\n",
       "      <th>268</th>\n",
       "      <td>NaN</td>\n",
       "      <td>NaN</td>\n",
       "      <td>satorial</td>\n",
       "      <td>NaN</td>\n",
       "      <td>NaN</td>\n",
       "      <td>NaN</td>\n",
       "      <td>NaN</td>\n",
       "      <td>NaN</td>\n",
       "      <td>NaN</td>\n",
       "      <td>0</td>\n",
       "    </tr>\n",
       "    <tr>\n",
       "      <th>269</th>\n",
       "      <td>NaN</td>\n",
       "      <td>NaN</td>\n",
       "      <td>deflect</td>\n",
       "      <td>NaN</td>\n",
       "      <td>NaN</td>\n",
       "      <td>NaN</td>\n",
       "      <td>NaN</td>\n",
       "      <td>NaN</td>\n",
       "      <td>NaN</td>\n",
       "      <td>0</td>\n",
       "    </tr>\n",
       "    <tr>\n",
       "      <th>270</th>\n",
       "      <td>NaN</td>\n",
       "      <td>NaN</td>\n",
       "      <td>flout</td>\n",
       "      <td>NaN</td>\n",
       "      <td>NaN</td>\n",
       "      <td>NaN</td>\n",
       "      <td>NaN</td>\n",
       "      <td>NaN</td>\n",
       "      <td>NaN</td>\n",
       "      <td>0</td>\n",
       "    </tr>\n",
       "    <tr>\n",
       "      <th>271</th>\n",
       "      <td>NaN</td>\n",
       "      <td>NaN</td>\n",
       "      <td>brandish</td>\n",
       "      <td>NaN</td>\n",
       "      <td>NaN</td>\n",
       "      <td>NaN</td>\n",
       "      <td>NaN</td>\n",
       "      <td>NaN</td>\n",
       "      <td>NaN</td>\n",
       "      <td>0</td>\n",
       "    </tr>\n",
       "  </tbody>\n",
       "</table>\n",
       "<p>272 rows × 10 columns</p>\n",
       "</div>"
      ],
      "text/plain": [
       "            N  Set  Vocabulary                                Tranlsation  \\\n",
       "0    0.254791    C         vex                  make someone feel annoyed   \n",
       "1    0.773494    B  fortuitous  occuring by happy chance, having no cause   \n",
       "2    0.417584    A       demur                    object, show reluctance   \n",
       "3    0.054460    A     qualify                                   to limit   \n",
       "4    0.683670    F    abstruse                    difficult to understand   \n",
       "..        ...  ...         ...                                        ...   \n",
       "267       NaN  NaN      schism                                        NaN   \n",
       "268       NaN  NaN    satorial                                        NaN   \n",
       "269       NaN  NaN     deflect                                        NaN   \n",
       "270       NaN  NaN       flout                                        NaN   \n",
       "271       NaN  NaN    brandish                                        NaN   \n",
       "\n",
       "                                              Sentence Unknown Unknown 2  \\\n",
       "0                                                  NaN       x       NaN   \n",
       "1    Mising my train turned out to be very fortuito...     NaN       NaN   \n",
       "2                      The donkey demurred his orders.       x       NaN   \n",
       "3    He qualified his appraisal in only refering to...     NaN       NaN   \n",
       "4     Academic textbooks are often abstrusely written.       x       NaN   \n",
       "..                                                 ...     ...       ...   \n",
       "267                                                NaN     NaN       NaN   \n",
       "268                                                NaN     NaN       NaN   \n",
       "269                                                NaN     NaN       NaN   \n",
       "270                                                NaN     NaN       NaN   \n",
       "271                                                NaN     NaN       NaN   \n",
       "\n",
       "    Unknwon 3 Unnamed: 8  count  \n",
       "0         NaN        NaN      1  \n",
       "1         NaN        NaN      0  \n",
       "2         NaN        NaN      1  \n",
       "3         NaN        NaN      0  \n",
       "4         NaN        NaN      0  \n",
       "..        ...        ...    ...  \n",
       "267       NaN        NaN      0  \n",
       "268       NaN        NaN      0  \n",
       "269       NaN        NaN      0  \n",
       "270       NaN        NaN      0  \n",
       "271       NaN        NaN      0  \n",
       "\n",
       "[272 rows x 10 columns]"
      ]
     },
     "execution_count": 21,
     "metadata": {},
     "output_type": "execute_result"
    }
   ],
   "source": [
    "_"
   ]
  },
  {
   "cell_type": "code",
   "execution_count": null,
   "id": "bf9af9df-96bd-43f5-826f-1c607f41825e",
   "metadata": {},
   "outputs": [],
   "source": []
  },
  {
   "cell_type": "code",
   "execution_count": 42,
   "id": "5f0be209-8d61-431e-8b46-2cfb2e5e42cd",
   "metadata": {},
   "outputs": [],
   "source": [
    "df.loc[sub.index] = sub"
   ]
  },
  {
   "cell_type": "code",
   "execution_count": 43,
   "id": "a6c59fef-14d0-497c-905c-1418b0b05df7",
   "metadata": {},
   "outputs": [],
   "source": [
    "df.to_excel(os.path.join(DATA_DIR, \"GRE_voc.xlsx\"), index=False)"
   ]
  },
  {
   "cell_type": "code",
   "execution_count": null,
   "id": "dd565980-4da7-47b6-98cb-94df7f6c1dc2",
   "metadata": {},
   "outputs": [],
   "source": []
  }
 ],
 "metadata": {
  "kernelspec": {
   "display_name": "Python 3 (ipykernel)",
   "language": "python",
   "name": "python3"
  },
  "language_info": {
   "codemirror_mode": {
    "name": "ipython",
    "version": 3
   },
   "file_extension": ".py",
   "mimetype": "text/x-python",
   "name": "python",
   "nbconvert_exporter": "python",
   "pygments_lexer": "ipython3",
   "version": "3.8.12"
  }
 },
 "nbformat": 4,
 "nbformat_minor": 5
}
