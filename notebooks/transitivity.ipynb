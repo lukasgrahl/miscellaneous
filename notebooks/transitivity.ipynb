{
 "cells": [
  {
   "cell_type": "code",
   "execution_count": 13,
   "id": "ccc64199-9d27-420a-8906-9be6cf1f4930",
   "metadata": {},
   "outputs": [],
   "source": [
    "%run init_notebook.py\n",
    "from settings import DATA_DIR"
   ]
  },
  {
   "cell_type": "code",
   "execution_count": 14,
   "id": "54c23f43-1bb6-469e-8dbc-ec3e79702e6d",
   "metadata": {},
   "outputs": [],
   "source": [
    "import numpy as np\n",
    "import pandas as pd\n",
    "import spacy\n",
    "import os\n",
    "\n",
    "from itertools import chain, combinations"
   ]
  },
  {
   "cell_type": "code",
   "execution_count": 15,
   "id": "ea8de743-32f9-4c6e-8453-dcf793ad764f",
   "metadata": {},
   "outputs": [],
   "source": [
    "# !python -m spacy download en_core_web_lg"
   ]
  },
  {
   "cell_type": "code",
   "execution_count": 16,
   "id": "aa9343e6-aa0b-4e89-ac6a-e20402637251",
   "metadata": {},
   "outputs": [],
   "source": [
    "from src.transitivity import get_transitivity_candidates, transitvity_check_first_level, transitivity_check_second_level, is_matrix_transitive, _recursion_transitive_clusters"
   ]
  },
  {
   "cell_type": "markdown",
   "id": "35694b7f-3093-430a-a393-f6c41c37f832",
   "metadata": {},
   "source": [
    "#### The problem I was facing: \r\n",
    "I developed an unsupervised topic recognition model, aiming at recognising new often unknown events (e.g. covid-19) early on. For this purpose, I used spacy's proper noun tag PROPNN on top of NER) to build mention density time series by entity. The spacy NER turned out to be to  narro for new topics. \r\n",
    "In order to make the density time series more accurate I need to link expressions, that on an article level can be considered synonyms. Newspapers would sometimes refer to European Central Bank” and “European Institution” interchangeably in order to make texts more readable. In this case linking expressions on an article level was important, as they two are not global synonyms. Another example were names such as “Donald Trump” “President Trump”, which also had to be linked. I was therefore looking for a local unsupervised clustering technique, not relying on an external data base.\r\n"
   ]
  },
  {
   "cell_type": "markdown",
   "id": "d91b0179-b403-4587-a9db-febedf58a757",
   "metadata": {},
   "source": [
    "#### My solution\n",
    "I used spacy vector embeddings as measure of similarity, only analysing term pairs exceeding a certain threshold (e.g. 0.8). In a next step I used transitivity as a clustering criterion. Transitivity imposes that all words in a cluster must share the same similarity strength or above. This method outputs few but meaningful cluster for each article. Moreover, these clusters are not overlapping by nature. \n",
    "My code performs clsutering in three steps. First combinations of pairs and their similarity score are gathered in a list. In order check for transitivty potential clusters need to be identified. This is a finite recursive problem as on word in a pair is potentially linked to another pair and so and so forth. I am considering a pool of pairs, for a given paris I then check which other pairs are associated, taking them out of the pool. Once all related pairs are gathered the cluster candidate is complete. This procedure is then applied to all pairs remaining in the pool until the pool of pairs is empty. In a third and last step the cluster candidates are checked for transitivity using matrix multiplication. \n",
    "\n",
    "The code can be found here: https://github.com/lukasgrahl/miscellaneous/blob/main/src/transitivity.py"
   ]
  },
  {
   "cell_type": "markdown",
   "id": "a8fea4b0-75b4-4887-a6c4-a767bccbbd75",
   "metadata": {},
   "source": [
    "#### An example\n",
    "Using this article from the Irish Times: https://www.irishtimes.com/world/europe/2023/08/31/ukraine-war-latest/\n"
   ]
  },
  {
   "cell_type": "code",
   "execution_count": 17,
   "id": "8f308024-a0b5-4584-9638-3e0a52a9648a",
   "metadata": {},
   "outputs": [],
   "source": [
    "article_irish_times = open(os.path.join(DATA_DIR, 'irish_times_article.txt'), 'r', encoding='utf-8').read()"
   ]
  },
  {
   "cell_type": "code",
   "execution_count": 18,
   "id": "a5f8d7d0-39b1-4d41-8e2b-845a7d5bddf0",
   "metadata": {},
   "outputs": [],
   "source": [
    "NLP = spacy.load('en_core_web_lg')\n",
    "doc = NLP(article_irish_times)\n",
    "\n",
    "all_ents = list(doc.ents)\n",
    "all_ents.extend([t for t in doc if t.pos_ == 'PROPN'])\n",
    "candidates = get_transitivity_candidates(all_ents, similarity_threshold=.75)"
   ]
  },
  {
   "cell_type": "code",
   "execution_count": 19,
   "id": "fd0ceec1-ab61-420e-a41b-819aff217cb1",
   "metadata": {},
   "outputs": [
    {
     "data": {
      "text/plain": [
       "[['Union', 'the European Union'],\n",
       " ['ukrainian', 'Ukraine'],\n",
       " ['European', 'the European Union'],\n",
       " ['Ukraine', 'Russia'],\n",
       " ['the European Union', 'the National Security and Defence Council'],\n",
       " ['Zelenskiy', 'Volodymyr Zelenskiy'],\n",
       " ['Zelenskiy', 'Volodymyr'],\n",
       " ['15,000', '3,000'],\n",
       " ['the National Security and Defence Council', 'National'],\n",
       " ['the National Security and Defence Council', 'Defence'],\n",
       " ['this month', 'last month'],\n",
       " ['February', 'February 2022'],\n",
       " ['last month', 'February last year'],\n",
       " ['Volodymyr Zelenskiy', 'Volodymyr']]"
      ]
     },
     "execution_count": 19,
     "metadata": {},
     "output_type": "execute_result"
    }
   ],
   "source": [
    "[list(i) for i in candidates]"
   ]
  },
  {
   "cell_type": "code",
   "execution_count": 20,
   "id": "e4c1cfe9-1017-4cd4-bbbc-dbf27c610664",
   "metadata": {},
   "outputs": [],
   "source": [
    "tpl_cluster = _recursion_transitive_clusters(candidates)"
   ]
  },
  {
   "cell_type": "code",
   "execution_count": 21,
   "id": "6561eea8-bfa9-4c08-929f-42a4e51e7d61",
   "metadata": {},
   "outputs": [
    {
     "data": {
      "text/plain": [
       "[['Volodymyr Zelenskiy', 'Volodymyr', 'Zelenskiy'],\n",
       " ['15,000', '3,000'],\n",
       " ['February 2022', 'February']]"
      ]
     },
     "execution_count": 21,
     "metadata": {},
     "output_type": "execute_result"
    }
   ],
   "source": [
    "tpl_cluster"
   ]
  },
  {
   "cell_type": "code",
   "execution_count": null,
   "id": "464cca4e-3ad9-44ac-be80-4e0a11425f75",
   "metadata": {},
   "outputs": [],
   "source": []
  }
 ],
 "metadata": {
  "kernelspec": {
   "display_name": "Python 3 (ipykernel)",
   "language": "python",
   "name": "python3"
  },
  "language_info": {
   "codemirror_mode": {
    "name": "ipython",
    "version": 3
   },
   "file_extension": ".py",
   "mimetype": "text/x-python",
   "name": "python",
   "nbconvert_exporter": "python",
   "pygments_lexer": "ipython3",
   "version": "3.9.4"
  }
 },
 "nbformat": 4,
 "nbformat_minor": 5
}
