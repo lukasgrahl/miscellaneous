{
 "cells": [
  {
   "cell_type": "code",
   "execution_count": 97,
   "id": "ccc64199-9d27-420a-8906-9be6cf1f4930",
   "metadata": {},
   "outputs": [],
   "source": [
    "%run init_notebook.py\n",
    "from settings import DATA_DIR"
   ]
  },
  {
   "cell_type": "code",
   "execution_count": 98,
   "id": "54c23f43-1bb6-469e-8dbc-ec3e79702e6d",
   "metadata": {},
   "outputs": [],
   "source": [
    "import numpy as np\n",
    "import spacy\n",
    "import os"
   ]
  },
  {
   "cell_type": "code",
   "execution_count": 99,
   "id": "aa9343e6-aa0b-4e89-ac6a-e20402637251",
   "metadata": {},
   "outputs": [],
   "source": [
    "from src.transitivity import *"
   ]
  },
  {
   "cell_type": "code",
   "execution_count": 100,
   "id": "bf0619db-410c-4f73-b9b2-6a34aca26103",
   "metadata": {},
   "outputs": [],
   "source": [
    "article = open(os.path.join(DATA_DIR, '20230825_economist_china2.txt'), 'r+')"
   ]
  },
  {
   "cell_type": "code",
   "execution_count": 101,
   "id": "84891e38-6f18-4fc5-9d95-5ed9c84caa65",
   "metadata": {},
   "outputs": [],
   "source": [
    "article = \"\"\"\n",
    "Only eight months ago China’s economy was expected to roar back to life. Zero-covid had been abandoned; the country’s shoppers and tourists allowed to roam free. Yet the rebound has fizzled out, with weak growth and deflation the result. This will not only affect its people. What happens in the world’s second-largest economy matters beyond its borders, too.\n",
    "\n",
    "Because China is so big, its changing economic fortunes can drive overall global growth figures. But a slowing China also directly affects other countries’ prospects. Its households and companies will buy fewer goods and services than they would have otherwise, with consequences for both the producers of these goods and other consumers of them. In some places, China’s difficulties will be a source of pain. In others, though, they will bring relief.\n",
    "\n",
    "Commodity exporters are especially exposed to China’s slowdown. The country guzzles almost a fifth of the world’s oil, half of its refined copper, nickel and zinc, and more than three-fifths of its iron ore. China’s property woes will mean it requires less of such supplies. That will be a knock for countries such as Zambia, where exports of copper and other metals to China amount to 20% of gdp, and Australia, a big supplier of coal and iron. On August 22nd the boss of bhp, the world’s biggest miner, reported the lowest annual profit for the Australian firm in three years, and warned that China’s stimulus efforts were not producing changes on the ground.\n",
    "\n",
    "Weak spots in the West include Germany. Faltering demand from China is one reason why the country’s economy has either contracted or stagnated over the past three quarters. And some Western companies are exposed through their reliance on China for revenues. In 2021 the 200 biggest multinationals in America, Europe and Japan made 13% of their sales in the country, earning $700bn. Tesla is more exposed still, making around a fifth of its sales in China; Qualcomm, a chipmaker, makes a staggering two-thirds.\n",
    "\n",
    "Provided the slowdown does not escalate into a full-blown crisis, the pain will remain relatively concentrated. Sales to China account for only 4-8% of business for all listed companies in America, Europe and Japan. Exports from America, Britain, France and Spain come to 1-2% of their respective outputs. Even in Germany, with an export share of nearly 4%, China would have to collapse in order to generate a sizeable hit to its economy.\n",
    "\n",
    "Moreover, China’s struggles come at a time when the rest of the world is doing better than expected. In July the imf revised up its forecast for global growth, compared with projections in April. Most notable has been the rude health of the world’s biggest importer and China’s geopolitical rival, America, which some surveys suggest is growing at the red-hot pace of nearly 6%\n",
    "\n",
    "When set against this backdrop, China’s slowing growth should even provide a measure of relief for the world’s consumers, since it will mean less demand for commodities, bringing down prices and import costs. That in turn will ease the task faced by the Federal Reserve and other central banks. Many have already raised rates to their highest level in decades, and would not relish having to go further still.\n",
    "\n",
    "But what if things go badly wrong in China? Under a worst-case scenario, a property meltdown could reverberate through the world’s financial markets. A study published by the Bank of England in 2018 found that a “hard landing” in China, where economic growth fell from 7% to -1%, would cause global asset prices to fall and rich-world currencies to rise as investors rushed in the direction of safer assets. Overall, British gdp would drop by 1.2%. Although most Western financial institutions have relatively little exposure to China, there are exceptions, such as hsbc and Standard Chartered, two British banks.\n",
    "\n",
    "A longer slowdown could lead China to turn inward, reducing its overseas investments and loans. Having become the world’s biggest bilateral creditor in 2017, it has already cut back as projects turn sour. Officials may become fussier still if they are firefighting at home. Observers will watch forthcoming celebrations of a decade of the “Belt and Road Initiative”, the label under which China splurged on bridges in Mozambique and ports in Pakistan, for signals of official intent.\n",
    "\n",
    "Real difficulties at home would also change how the world perceives China. Rapid growth, along with generous overseas lending, boosted the country’s reputation. According to a recent survey of two dozen countries by Pew, a pollster, people in rich locations had a generally unfavourable view of China. The picture was different in much of the emerging world: Mexicans, Kenyans, Nigerians and South Africans all saw China in a more favourable light, and welcomed Chinese investment. The question is whether that will still be true in a year’s time. \n",
    "\"\"\""
   ]
  },
  {
   "cell_type": "code",
   "execution_count": 102,
   "id": "fd0ceec1-ab61-420e-a41b-819aff217cb1",
   "metadata": {},
   "outputs": [],
   "source": [
    "NLP = spacy.load('en_core_web_lg')"
   ]
  },
  {
   "cell_type": "code",
   "execution_count": 103,
   "id": "8714fdb1-3664-49ba-98d4-e31368cac932",
   "metadata": {},
   "outputs": [],
   "source": [
    "doc = NLP(article)"
   ]
  },
  {
   "cell_type": "code",
   "execution_count": 104,
   "id": "a9453e65-6429-46b9-acfc-07c6cb8fcb34",
   "metadata": {},
   "outputs": [],
   "source": [
    "all_ents = list(doc.ents)\n",
    "candidates = get_candidates(all_ents)"
   ]
  },
  {
   "cell_type": "code",
   "execution_count": 105,
   "id": "2d247d2b-c061-4ad5-9cda-3b96291f30b1",
   "metadata": {},
   "outputs": [
    {
     "data": {
      "text/plain": [
       "[Only eight months ago,\n",
       " China,\n",
       " Zero,\n",
       " second,\n",
       " China,\n",
       " China,\n",
       " China,\n",
       " China,\n",
       " almost a fifth,\n",
       " half,\n",
       " more than three-fifths,\n",
       " China,\n",
       " Zambia,\n",
       " China,\n",
       " 20%,\n",
       " Australia,\n",
       " August 22nd,\n",
       " bhp,\n",
       " annual,\n",
       " Australian,\n",
       " three years,\n",
       " China,\n",
       " West,\n",
       " Germany,\n",
       " China,\n",
       " one,\n",
       " the past three quarters,\n",
       " Western,\n",
       " China,\n",
       " 2021,\n",
       " 200,\n",
       " America,\n",
       " Europe,\n",
       " Japan,\n",
       " 13%,\n",
       " 700bn,\n",
       " Tesla,\n",
       " around a fifth,\n",
       " China,\n",
       " Qualcomm,\n",
       " two-thirds,\n",
       " China,\n",
       " America,\n",
       " Europe,\n",
       " Japan,\n",
       " America,\n",
       " Britain,\n",
       " France,\n",
       " Spain,\n",
       " 1-2%,\n",
       " Germany,\n",
       " nearly 4%,\n",
       " China,\n",
       " China,\n",
       " July,\n",
       " April,\n",
       " China,\n",
       " America,\n",
       " nearly 6%,\n",
       " China,\n",
       " the Federal Reserve,\n",
       " decades,\n",
       " China,\n",
       " the Bank of England,\n",
       " 2018,\n",
       " China,\n",
       " 7% to -1%,\n",
       " British,\n",
       " 1.2%,\n",
       " Western,\n",
       " China,\n",
       " hsbc,\n",
       " Standard Chartered,\n",
       " two,\n",
       " British,\n",
       " China,\n",
       " 2017,\n",
       " a decade,\n",
       " China,\n",
       " Mozambique,\n",
       " Pakistan,\n",
       " China,\n",
       " two dozen,\n",
       " Pew,\n",
       " China,\n",
       " Mexicans,\n",
       " Kenyans,\n",
       " Nigerians,\n",
       " South Africans,\n",
       " China,\n",
       " Chinese,\n",
       " year]"
      ]
     },
     "execution_count": 105,
     "metadata": {},
     "output_type": "execute_result"
    }
   ],
   "source": [
    "all_ents"
   ]
  },
  {
   "cell_type": "code",
   "execution_count": 106,
   "id": "bdc2c838-3d4d-4121-9df2-1707b453763b",
   "metadata": {},
   "outputs": [
    {
     "data": {
      "text/plain": [
       "array([['7% to -1%', '1.2%', True],\n",
       "       ['7% to -1%', '13%', True],\n",
       "       ['7% to -1%', 'nearly 6%', True],\n",
       "       ['7% to -1%', 'nearly 4%', True],\n",
       "       ['7% to -1%', '20%', True],\n",
       "       ['around a fifth', 'a decade', True],\n",
       "       ['around a fifth', 'almost a fifth', True],\n",
       "       ['1.2%', '13%', True],\n",
       "       ['1.2%', 'nearly 6%', True],\n",
       "       ['1.2%', 'nearly 4%', True],\n",
       "       ['1.2%', '20%', True],\n",
       "       ['two dozen', 'two', True],\n",
       "       ['13%', 'nearly 6%', True],\n",
       "       ['13%', 'nearly 4%', True],\n",
       "       ['13%', '20%', True],\n",
       "       ['13%', '1-2%', True],\n",
       "       ['2017', '2018', True],\n",
       "       ['2017', '2021', True],\n",
       "       ['Australia', 'australian', True],\n",
       "       ['July', 'August 22nd', True],\n",
       "       ['July', 'April', True],\n",
       "       ['nearly 6%', 'nearly 4%', True],\n",
       "       ['nearly 6%', '20%', True],\n",
       "       ['nearly 6%', '1-2%', True],\n",
       "       ['2018', '2021', True],\n",
       "       ['a decade', 'almost a fifth', True],\n",
       "       ['nearly 4%', '20%', True],\n",
       "       ['nearly 4%', '1-2%', True],\n",
       "       ['August 22nd', 'April', True],\n",
       "       ['20%', '1-2%', True]], dtype=object)"
      ]
     },
     "execution_count": 106,
     "metadata": {},
     "output_type": "execute_result"
    }
   ],
   "source": [
    "candidates"
   ]
  },
  {
   "cell_type": "code",
   "execution_count": 107,
   "id": "9f1dc8c8-0ce2-40da-b140-d0ca4fd71145",
   "metadata": {},
   "outputs": [],
   "source": [
    "from src.transitivity import _transitvity_check_first_level, _transitivity_check_second_level"
   ]
  },
  {
   "cell_type": "code",
   "execution_count": 108,
   "id": "f12a3586-32ba-41de-bb9f-a6dbdf397e9e",
   "metadata": {},
   "outputs": [],
   "source": [
    "def is_matrix_transitive(M):\n",
    "    return np.sum(np.sum((((M @ M) > 0) * 1) - M)) == 0"
   ]
  },
  {
   "cell_type": "code",
   "execution_count": 109,
   "id": "9ce11d7e-3de1-4427-8ed0-5eb53da770a7",
   "metadata": {},
   "outputs": [],
   "source": [
    "def _recursion_transitive_clusters(candidates: np.array, max_recursion: int = 100) -> list:\n",
    "    \"\"\"\n",
    "    This function recursively builds a set of pairs that are linked from a list of candidates.\n",
    "     For each such set of linked pairs, this function then checks transitivty\n",
    "    :param candidates: np.array of tuple pairs\n",
    "    :param max_recursion:\n",
    "    :return:\n",
    "    \"\"\"\n",
    "    out = [] # output\n",
    "    lst_has_been_checked = [] # list containing all expression that have been checked\n",
    "\n",
    "    # print(f'started recursion for {candidates.shape[0]}') # candidates: contains pairs of candidates which stand in relation A\n",
    "    for idx in range(0, candidates.shape[0]):\n",
    "\n",
    "        counter = 0 # recursion counter\n",
    "        #word #1 A word#2 -> 1st_tb_checked for other pairs containig either #1 xor #2\n",
    "\n",
    "        lst_tb_checked = list(candidates[idx, :2])\n",
    "\n",
    "        # if canidates have been checked already skip\n",
    "        # candidates might be related to a previously explored set, thus avoid unecessary runs\n",
    "\n",
    "        if (lst_tb_checked[0] in lst_has_been_checked) and (lst_tb_checked [1] in lst_has_been_checked):\n",
    "            continue\n",
    "        # set of all pairs with relation A, which are linked to either #1 or #2\n",
    "\n",
    "        OVERALL_SET = set()\n",
    "        OVERALL_SET.add(tuple (lst_tb_checked))\n",
    "\n",
    "        while len(lst_tb_checked) > 0:\n",
    "            # 1st level: finds all pairs that contain (xor) words in lst_tb_checked \n",
    "            set_topics = _transitvity_check_first_level(candidates, lst_tb_checked) \n",
    "            # 2nd level: checks whether adding new pairs has added new words #N \n",
    "            lst_tb_checked = _transitivity_check_second_level(set_topics, OVERALL_SET) \n",
    "            OVERALL_SET.update(set_topics)\n",
    "            \n",
    "            ## loop\n",
    "            # for new words #N, pairs containing #N words are added\n",
    "            # adding new pairs might add new words \n",
    "            # the recursion stops when no new words, requiring adding new pairs occur\n",
    "            \n",
    "            # recursion max to avoid infinite loop, adjust as needed\n",
    "            if counter > max_recursion:\n",
    "                # logger.warning(f'maximal recursion depth (max_recursion} has been reached for: {candidates}')\n",
    "                print(f'maximal recursion depth {max_recursion} has been reached for: {candidates}')\n",
    "                break\n",
    "\n",
    "            # tracking recursion depth\n",
    "            counter += 1\n",
    "\n",
    "            # each pair yields a set of related pairs, these can be represented in a matrix\n",
    "            matrix = pd.DataFrame(\n",
    "                [\n",
    "                    *chain(\n",
    "                        *[\n",
    "                            [\n",
    "                                (i[0], i[1], True), (i[1], i[0], True)\n",
    "                            ] for i in OVERALL_SET\n",
    "                        ]\n",
    "                    )\n",
    "                ],\n",
    "                columns = ['level1', 'level2', 'is_relation']\n",
    "            )\n",
    "            matrix = matrix.pivot_table(index='level1', columns='level2', values='is_relation').fillna(0)\n",
    "            np.fill_diagonal(matrix.values, True)  # fill diagonal to be True, (true by definition as word#1 == word#1)\n",
    "\n",
    "            # check tranistivity\n",
    "            is_transitive = is_matrix_transitive(matrix)\n",
    "            # append output\n",
    "            lst_overall_set = list(OVERALL_SET)\n",
    "            lst_overall_set.sort()\n",
    "            out.append((tuple(lst_overall_set), is_transitive))\n",
    "\n",
    "            # append items to has been_checked\n",
    "            lst_has_been_checked.extend(list({*chain(*[list(item) for item in lst_overall_set])}))\n",
    "\n",
    "    return out"
   ]
  },
  {
   "cell_type": "code",
   "execution_count": 110,
   "id": "e4c1cfe9-1017-4cd4-bbbc-dbf27c610664",
   "metadata": {},
   "outputs": [],
   "source": [
    "tpl_cluster = _recursion_transitive_clusters(candidates)"
   ]
  },
  {
   "cell_type": "code",
   "execution_count": 111,
   "id": "8f6835d3-aa94-481c-9325-83375437ee98",
   "metadata": {},
   "outputs": [
    {
     "data": {
      "text/plain": [
       "[(('a decade', 'almost a fifth'),\n",
       "  ('around a fifth', 'a decade'),\n",
       "  ('around a fifth', 'almost a fifth')),\n",
       " (('a decade', 'almost a fifth'),\n",
       "  ('around a fifth', 'a decade'),\n",
       "  ('around a fifth', 'almost a fifth')),\n",
       " (('two dozen', 'two'),),\n",
       " (('2017', '2018'), ('2017', '2021'), ('2018', '2021')),\n",
       " (('2017', '2018'), ('2017', '2021'), ('2018', '2021')),\n",
       " (('Australia', 'australian'),),\n",
       " (('August 22nd', 'April'), ('July', 'April'), ('July', 'August 22nd')),\n",
       " (('August 22nd', 'April'), ('July', 'April'), ('July', 'August 22nd'))]"
      ]
     },
     "execution_count": 111,
     "metadata": {},
     "output_type": "execute_result"
    }
   ],
   "source": [
    "[i[0] for i in tpl_cluster if i[-1]]"
   ]
  },
  {
   "cell_type": "code",
   "execution_count": 122,
   "id": "a1e5083d-9fa8-412a-ba58-86ecd6067421",
   "metadata": {},
   "outputs": [],
   "source": [
    "cluster = [list(z) for z in set([frozenset([*chain(*[*chain([list(i) for i in item[0]])])]) for item in tpl_cluster if item[-1]])]"
   ]
  },
  {
   "cell_type": "code",
   "execution_count": 127,
   "id": "f6908810-d939-437a-a6e5-d28ef128fb53",
   "metadata": {},
   "outputs": [
    {
     "data": {
      "text/plain": [
       "[['July', 'April', 'August 22nd'],\n",
       " ['a decade', 'around a fifth', 'almost a fifth'],\n",
       " ['two', 'two dozen'],\n",
       " ['Australia', 'australian'],\n",
       " ['2017', '2018', '2021']]"
      ]
     },
     "execution_count": 127,
     "metadata": {},
     "output_type": "execute_result"
    }
   ],
   "source": [
    "cluster"
   ]
  },
  {
   "cell_type": "code",
   "execution_count": null,
   "id": "464cca4e-3ad9-44ac-be80-4e0a11425f75",
   "metadata": {},
   "outputs": [],
   "source": []
  }
 ],
 "metadata": {
  "kernelspec": {
   "display_name": "Python 3 (ipykernel)",
   "language": "python",
   "name": "python3"
  },
  "language_info": {
   "codemirror_mode": {
    "name": "ipython",
    "version": 3
   },
   "file_extension": ".py",
   "mimetype": "text/x-python",
   "name": "python",
   "nbconvert_exporter": "python",
   "pygments_lexer": "ipython3",
   "version": "3.9.4"
  }
 },
 "nbformat": 4,
 "nbformat_minor": 5
}
