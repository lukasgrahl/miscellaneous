{
 "cells": [
  {
   "cell_type": "code",
   "execution_count": 1,
   "id": "e8daf262-da7c-4f9e-8649-81f204b05a78",
   "metadata": {},
   "outputs": [],
   "source": [
    "%run init_notebook.py"
   ]
  },
  {
   "cell_type": "code",
   "execution_count": 2,
   "id": "50231108-65d4-47bf-b128-5fbc24119e71",
   "metadata": {},
   "outputs": [],
   "source": [
    "import pandas as pd\n",
    "import numpy as np\n",
    "\n",
    "from bs4 import BeautifulSoup\n",
    "import requests\n",
    "\n",
    "import os"
   ]
  },
  {
   "cell_type": "code",
   "execution_count": 3,
   "id": "932959a7-5829-4ab5-966b-1e4d8be96067",
   "metadata": {},
   "outputs": [],
   "source": [
    "from settings import DATA_DIR"
   ]
  },
  {
   "cell_type": "markdown",
   "id": "3d86b1fa-139e-48d5-a55b-41ec9138416c",
   "metadata": {},
   "source": [
    "Part 1"
   ]
  },
  {
   "cell_type": "code",
   "execution_count": 4,
   "id": "c20d3ddd-7018-44fb-99e6-457b605d704f",
   "metadata": {},
   "outputs": [],
   "source": [
    "with open(os.path.join(DATA_DIR, \"simple.html\")) as html_file:\n",
    "    soup = BeautifulSoup(html_file, \"lxml\")"
   ]
  },
  {
   "cell_type": "code",
   "execution_count": 5,
   "id": "63103db1-1098-4ba9-8558-024dce69bbdd",
   "metadata": {},
   "outputs": [],
   "source": [
    "# print(soup.prettify())"
   ]
  },
  {
   "cell_type": "code",
   "execution_count": 6,
   "id": "5816ec2d-b787-4717-8d8e-6257eb135f11",
   "metadata": {},
   "outputs": [],
   "source": [
    "# find to identify a certain kind of \"div\", in this case \"article\"\n",
    "article = soup.find('div', class_ = 'article')\n",
    "headline = article.h2.a.text\n",
    "summary = article.p.text"
   ]
  },
  {
   "cell_type": "code",
   "execution_count": 7,
   "id": "528fd27b-c250-4912-81e5-4355e3c44f2d",
   "metadata": {},
   "outputs": [
    {
     "name": "stdout",
     "output_type": "stream",
     "text": [
      "Article 1 Headline\n",
      "This is a summary of article 1\n",
      "\n",
      "Article 2 Headline\n",
      "This is a summary of article 2\n",
      "\n"
     ]
    }
   ],
   "source": [
    "# create a list of similar elements\n",
    "for artc in soup.find_all(\"div\", class_ = \"article\"):\n",
    "    print(artc.h2.a.text)\n",
    "    print(artc.p.text)\n",
    "    print()"
   ]
  },
  {
   "cell_type": "markdown",
   "id": "014628ca-87df-4bfa-b8b0-ef6b76bfc5b6",
   "metadata": {},
   "source": [
    "Part 2"
   ]
  },
  {
   "cell_type": "code",
   "execution_count": 8,
   "id": "74d2fe4e-0d3f-43f3-be3b-e51f43b26f9e",
   "metadata": {},
   "outputs": [],
   "source": [
    "url = \"https://coreyms.com/\""
   ]
  },
  {
   "cell_type": "code",
   "execution_count": 9,
   "id": "ffa742fe-7ce8-47ff-a0af-738a99fec48d",
   "metadata": {},
   "outputs": [],
   "source": [
    "source = requests.get(url).text\n",
    "soup = BeautifulSoup(source, \"lxml\")"
   ]
  },
  {
   "cell_type": "code",
   "execution_count": 10,
   "id": "8f0c0bf0-bd95-4d2f-8d32-f248e5b40ad8",
   "metadata": {},
   "outputs": [],
   "source": [
    "article = soup.find(\"article\")"
   ]
  },
  {
   "cell_type": "code",
   "execution_count": 11,
   "id": "57aebdda-052e-4523-bc07-25e89038371c",
   "metadata": {},
   "outputs": [],
   "source": [
    "headline = article.h2.a.text "
   ]
  },
  {
   "cell_type": "code",
   "execution_count": 12,
   "id": "5cb058b2-3314-41b5-bf82-4985c3429c4e",
   "metadata": {},
   "outputs": [],
   "source": [
    "summary = article.find(\"div\", class_=\"entry-content\").p.text"
   ]
  },
  {
   "cell_type": "code",
   "execution_count": 13,
   "id": "c020e917-5dc3-4004-aa80-a34360787554",
   "metadata": {},
   "outputs": [],
   "source": [
    "# acces subparts content like a dictionary, also achieved by using attr\n",
    "vid_url = article.find(\"iframe\")[\"src\"]"
   ]
  },
  {
   "cell_type": "markdown",
   "id": "e38ca007-463b-46e6-aad7-bfe62fe330ba",
   "metadata": {},
   "source": [
    "Part 3"
   ]
  },
  {
   "cell_type": "code",
   "execution_count": 14,
   "id": "4e5728f5-f32b-4550-ade6-f9a3930158a9",
   "metadata": {},
   "outputs": [],
   "source": [
    "url = \"https://www.jugendherberge.de/angebote/suche/?TravelPeriodType=0&Arrival=08.04.2022&Departure=10.04.2022&Active=true&IncludeClosestLocations=&SearchTerm=Baden-W%C3%BCrttemberg&SelectedAutoCompleteEntryIds=1&SelectedAutoCompleteEntryType=6&SearchButtonText=Verf%C3%BCgbarkeit+pr%C3%BCfen&Travelers.Count=100&Travelers.GroupTravelers.GroupType=10&Travelers.GroupTravelers.Participants=100\""
   ]
  },
  {
   "cell_type": "code",
   "execution_count": 15,
   "id": "4d58dde8-65b6-4fdd-9944-98b6db51c7e2",
   "metadata": {},
   "outputs": [],
   "source": [
    "source = requests.get(url).text"
   ]
  },
  {
   "cell_type": "code",
   "execution_count": 17,
   "id": "6dca3f23-d9c7-4d10-8fa3-b8b1849c32d3",
   "metadata": {},
   "outputs": [],
   "source": [
    "soup = BeautifulSoup(source, \"lxml\")"
   ]
  },
  {
   "cell_type": "code",
   "execution_count": 19,
   "id": "863f16ec-0210-47dc-977e-5d521fc447c8",
   "metadata": {},
   "outputs": [],
   "source": [
    "body = soup.body"
   ]
  },
  {
   "cell_type": "code",
   "execution_count": 20,
   "id": "17e0e13f-5fe5-43d6-9ae5-67d78f6ff2ea",
   "metadata": {},
   "outputs": [],
   "source": [
    "output = {}\n",
    "\n",
    "for i, box in enumerate(body.find_all(\"div\", class_=\"[ searchResult ] [ bookingOffer ] [ js-offer ]\")):\n",
    "    card = box.find(\"div\", class_=\"[ card ]\")\n",
    "\n",
    "    pp_price = card.find(\"div\", class_=\"[ card__media card__media--fill ]\").find(\"em\", class_=\"[ partial ]\").find(\"span\", class_=\"[ amount ]\").text\n",
    "    tot_price = card.find(\"div\", class_=\"[ card__media card__media--fill ]\").find(\"strong\", class_=\"[ total ]\").find(\"span\", class_=\"[ amount ]\").text\n",
    "\n",
    "    name = card.find(\"div\", class_=\"[ card__body ]\").find(\"h5\", class_=\"[ card__title ]\").text\n",
    "    tel = card.find(\"div\", class_=\"[ card__body ]\").find(\"div\", class_=\"[ card__contact ]\").find(\"span\").text\n",
    "    \n",
    "    link = card.find(\"div\", class_=\"[ card__body ]\").find(\"div\", class_=\"card__content__headline\").find(\"a\")[\"href\"]\n",
    "    link = \"https://www.jugendherberge.de/\" + link\n",
    "    \n",
    "    opnv_dist = card.find(\"div\", class_=\"[ card__footer__link card__footer__link--position ] [ js-show-current-position ]\")\n",
    "    \n",
    "    _1 = [\"pp_price\", \"tot_price\", \"name\", \"tel\", \"link\"]\n",
    "    _2 = [pp_price, tot_price, name, tel, link]\n",
    "    \n",
    "    _ = dict(zip(_1, _2))\n",
    "    \n",
    "    output.update({f\"card{i}\" : _})"
   ]
  },
  {
   "cell_type": "code",
   "execution_count": null,
   "id": "547b6143-ae59-445f-95ef-8d654c260b51",
   "metadata": {},
   "outputs": [],
   "source": []
  },
  {
   "cell_type": "code",
   "execution_count": 21,
   "id": "deb93c1e-f4fe-46b8-b740-11e1075563db",
   "metadata": {},
   "outputs": [
    {
     "data": {
      "text/html": [
       "<div>\n",
       "<style scoped>\n",
       "    .dataframe tbody tr th:only-of-type {\n",
       "        vertical-align: middle;\n",
       "    }\n",
       "\n",
       "    .dataframe tbody tr th {\n",
       "        vertical-align: top;\n",
       "    }\n",
       "\n",
       "    .dataframe thead th {\n",
       "        text-align: right;\n",
       "    }\n",
       "</style>\n",
       "<table border=\"1\" class=\"dataframe\">\n",
       "  <thead>\n",
       "    <tr style=\"text-align: right;\">\n",
       "      <th></th>\n",
       "      <th>card0</th>\n",
       "      <th>card1</th>\n",
       "      <th>card2</th>\n",
       "      <th>card3</th>\n",
       "      <th>card4</th>\n",
       "      <th>card5</th>\n",
       "      <th>card6</th>\n",
       "      <th>card7</th>\n",
       "    </tr>\n",
       "  </thead>\n",
       "  <tbody>\n",
       "    <tr>\n",
       "      <th>pp_price</th>\n",
       "      <td>60,40 €</td>\n",
       "      <td>60,40 €</td>\n",
       "      <td>60,40 €</td>\n",
       "      <td>60,40 €</td>\n",
       "      <td>55,00 €</td>\n",
       "      <td>60,40 €</td>\n",
       "      <td>71,40 €</td>\n",
       "      <td>57,40 €</td>\n",
       "    </tr>\n",
       "    <tr>\n",
       "      <th>tot_price</th>\n",
       "      <td>6.040,00 €</td>\n",
       "      <td>6.040,00 €</td>\n",
       "      <td>6.040,00 €</td>\n",
       "      <td>6.040,00 €</td>\n",
       "      <td>5.500,00 €</td>\n",
       "      <td>6.040,00 €</td>\n",
       "      <td>7.140,00 €</td>\n",
       "      <td>5.740,00 €</td>\n",
       "    </tr>\n",
       "    <tr>\n",
       "      <th>name</th>\n",
       "      <td>Bad Urach</td>\n",
       "      <td>Baden-Baden</td>\n",
       "      <td>Biberach</td>\n",
       "      <td>Creglingen</td>\n",
       "      <td>Feldberg \"Schwarzwald\"</td>\n",
       "      <td>Forbach-Herrenwies</td>\n",
       "      <td>Freiburg International</td>\n",
       "      <td>Freudenstadt</td>\n",
       "    </tr>\n",
       "    <tr>\n",
       "      <th>tel</th>\n",
       "      <td>07125 8025</td>\n",
       "      <td>07221 52223</td>\n",
       "      <td>07351 21885</td>\n",
       "      <td>07933 336</td>\n",
       "      <td>07676 221</td>\n",
       "      <td>07226 257</td>\n",
       "      <td>0761 67656</td>\n",
       "      <td>07441 7720</td>\n",
       "    </tr>\n",
       "    <tr>\n",
       "      <th>link</th>\n",
       "      <td>https://www.jugendherberge.de//jugendherbergen...</td>\n",
       "      <td>https://www.jugendherberge.de//jugendherbergen...</td>\n",
       "      <td>https://www.jugendherberge.de//jugendherbergen...</td>\n",
       "      <td>https://www.jugendherberge.de//jugendherbergen...</td>\n",
       "      <td>https://www.jugendherberge.de//jugendherbergen...</td>\n",
       "      <td>https://www.jugendherberge.de//jugendherbergen...</td>\n",
       "      <td>https://www.jugendherberge.de//jugendherbergen...</td>\n",
       "      <td>https://www.jugendherberge.de//jugendherbergen...</td>\n",
       "    </tr>\n",
       "  </tbody>\n",
       "</table>\n",
       "</div>"
      ],
      "text/plain": [
       "                                                       card0  \\\n",
       "pp_price                                             60,40 €   \n",
       "tot_price                                         6.040,00 €   \n",
       "name                                               Bad Urach   \n",
       "tel                                               07125 8025   \n",
       "link       https://www.jugendherberge.de//jugendherbergen...   \n",
       "\n",
       "                                                       card1  \\\n",
       "pp_price                                             60,40 €   \n",
       "tot_price                                         6.040,00 €   \n",
       "name                                             Baden-Baden   \n",
       "tel                                              07221 52223   \n",
       "link       https://www.jugendherberge.de//jugendherbergen...   \n",
       "\n",
       "                                                       card2  \\\n",
       "pp_price                                             60,40 €   \n",
       "tot_price                                         6.040,00 €   \n",
       "name                                                Biberach   \n",
       "tel                                              07351 21885   \n",
       "link       https://www.jugendherberge.de//jugendherbergen...   \n",
       "\n",
       "                                                       card3  \\\n",
       "pp_price                                             60,40 €   \n",
       "tot_price                                         6.040,00 €   \n",
       "name                                              Creglingen   \n",
       "tel                                                07933 336   \n",
       "link       https://www.jugendherberge.de//jugendherbergen...   \n",
       "\n",
       "                                                       card4  \\\n",
       "pp_price                                             55,00 €   \n",
       "tot_price                                         5.500,00 €   \n",
       "name                                  Feldberg \"Schwarzwald\"   \n",
       "tel                                                07676 221   \n",
       "link       https://www.jugendherberge.de//jugendherbergen...   \n",
       "\n",
       "                                                       card5  \\\n",
       "pp_price                                             60,40 €   \n",
       "tot_price                                         6.040,00 €   \n",
       "name                                      Forbach-Herrenwies   \n",
       "tel                                                07226 257   \n",
       "link       https://www.jugendherberge.de//jugendherbergen...   \n",
       "\n",
       "                                                       card6  \\\n",
       "pp_price                                             71,40 €   \n",
       "tot_price                                         7.140,00 €   \n",
       "name                                  Freiburg International   \n",
       "tel                                               0761 67656   \n",
       "link       https://www.jugendherberge.de//jugendherbergen...   \n",
       "\n",
       "                                                       card7  \n",
       "pp_price                                             57,40 €  \n",
       "tot_price                                         5.740,00 €  \n",
       "name                                            Freudenstadt  \n",
       "tel                                               07441 7720  \n",
       "link       https://www.jugendherberge.de//jugendherbergen...  "
      ]
     },
     "execution_count": 21,
     "metadata": {},
     "output_type": "execute_result"
    }
   ],
   "source": [
    "pd.DataFrame(output)"
   ]
  },
  {
   "cell_type": "code",
   "execution_count": null,
   "id": "3a9b11d0-6e0b-4d3c-9013-1eb8f6bc1610",
   "metadata": {},
   "outputs": [],
   "source": []
  },
  {
   "cell_type": "code",
   "execution_count": null,
   "id": "4d1f8bdd-d87c-4181-808f-e45c33667501",
   "metadata": {},
   "outputs": [],
   "source": []
  }
 ],
 "metadata": {
  "kernelspec": {
   "display_name": "Python 3 (ipykernel)",
   "language": "python",
   "name": "python3"
  },
  "language_info": {
   "codemirror_mode": {
    "name": "ipython",
    "version": 3
   },
   "file_extension": ".py",
   "mimetype": "text/x-python",
   "name": "python",
   "nbconvert_exporter": "python",
   "pygments_lexer": "ipython3",
   "version": "3.8.12"
  }
 },
 "nbformat": 4,
 "nbformat_minor": 5
}
