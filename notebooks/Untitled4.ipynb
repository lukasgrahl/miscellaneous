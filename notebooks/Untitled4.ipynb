{
 "cells": [
  {
   "cell_type": "code",
   "execution_count": 1,
   "id": "dc29ee04-699a-48b6-bbee-2857aeed9b14",
   "metadata": {},
   "outputs": [],
   "source": [
    "%run init_notebook.py"
   ]
  },
  {
   "cell_type": "code",
   "execution_count": 2,
   "id": "9de99dee-a360-4c35-a78c-fa042d279dd9",
   "metadata": {},
   "outputs": [],
   "source": [
    "import pandas as pd\n",
    "import os"
   ]
  },
  {
   "cell_type": "code",
   "execution_count": 59,
   "id": "135b34ea-3345-4f65-839d-8e509e3db4eb",
   "metadata": {},
   "outputs": [],
   "source": [
    "from settings import DATA_DIR, OUTPUT_DIR"
   ]
  },
  {
   "cell_type": "code",
   "execution_count": 8,
   "id": "bee0e275-e585-457a-9f4c-9107373ed7b3",
   "metadata": {},
   "outputs": [],
   "source": [
    "df = pd.read_excel(os.path.join(DATA_DIR, \"ibwe_djh.xlsx\"))\n",
    "df.columns = [\"Link\"]"
   ]
  },
  {
   "cell_type": "code",
   "execution_count": 21,
   "id": "444fbd20-e9e9-434e-af70-b19e995e36a0",
   "metadata": {},
   "outputs": [],
   "source": [
    "df[\"Name\"] = df[\"Link\"].apply(lambda x: x[46:].split(\"/\")[0][:-4].split(\"-\"))"
   ]
  },
  {
   "cell_type": "code",
   "execution_count": 33,
   "id": "a99ae7b9-6c61-46f9-83cc-2540a2c39eac",
   "metadata": {},
   "outputs": [],
   "source": [
    "x = \"test\""
   ]
  },
  {
   "cell_type": "code",
   "execution_count": 35,
   "id": "90dd6685-6681-4973-b387-84e9dd4de7eb",
   "metadata": {},
   "outputs": [
    {
     "data": {
      "text/plain": [
       "'Test'"
      ]
     },
     "execution_count": 35,
     "metadata": {},
     "output_type": "execute_result"
    }
   ],
   "source": [
    "x.capitalize()"
   ]
  },
  {
   "cell_type": "code",
   "execution_count": 38,
   "id": "e5a4b343-db01-4bcf-aca3-e48f8ba9b2cc",
   "metadata": {},
   "outputs": [
    {
     "data": {
      "text/plain": [
       "0                    [bad, homburg]\n",
       "1                   [bad, hersfeld]\n",
       "2     [bad, kissingen, heiligenhof]\n",
       "3           [berlin, international]\n",
       "4                      [biedenkopf]\n",
       "                  ...              \n",
       "63                      [wiesbaden]\n",
       "64                      [willingen]\n",
       "65                     [winterberg]\n",
       "66                         [wismar]\n",
       "67                               []\n",
       "Name: Name, Length: 68, dtype: object"
      ]
     },
     "execution_count": 38,
     "metadata": {},
     "output_type": "execute_result"
    }
   ],
   "source": [
    "df[\"Name\"]"
   ]
  },
  {
   "cell_type": "code",
   "execution_count": 54,
   "id": "eb692828-9d2c-4981-8bdb-98e85160c301",
   "metadata": {},
   "outputs": [],
   "source": [
    "def capatalize_names(df,\n",
    "                     col):\n",
    "    \n",
    "    empty_list = []\n",
    "    \n",
    "    for item in df[col]:\n",
    "        y = \"\"\n",
    "        for x in item:\n",
    "            y = y + \" \" + x.capitalize()\n",
    "        \n",
    "        empty_list.append(y[1:])\n",
    "    return empty_list"
   ]
  },
  {
   "cell_type": "code",
   "execution_count": 56,
   "id": "257e5de8-63f4-4828-926c-fba9a5ed4d6c",
   "metadata": {},
   "outputs": [],
   "source": [
    "df[\"Name\"] = capatalize_names(df, \n",
    "                 \"Name\")"
   ]
  },
  {
   "cell_type": "code",
   "execution_count": 61,
   "id": "f16903ae-bc3d-4c77-ba43-394bbaf52349",
   "metadata": {},
   "outputs": [],
   "source": [
    "df[[\"Name\", \"Link\"]].to_excel(os.path.join(OUTPUT_DIR, \"ibwe_djh.xlsx\"))"
   ]
  }
 ],
 "metadata": {
  "kernelspec": {
   "display_name": "Python 3 (ipykernel)",
   "language": "python",
   "name": "python3"
  },
  "language_info": {
   "codemirror_mode": {
    "name": "ipython",
    "version": 3
   },
   "file_extension": ".py",
   "mimetype": "text/x-python",
   "name": "python",
   "nbconvert_exporter": "python",
   "pygments_lexer": "ipython3",
   "version": "3.8.12"
  }
 },
 "nbformat": 4,
 "nbformat_minor": 5
}
